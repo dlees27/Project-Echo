{
 "cells": [
  {
   "cell_type": "code",
   "execution_count": 3,
   "metadata": {},
   "outputs": [
    {
     "name": "stdout",
     "output_type": "stream",
     "text": [
      "['SIT314', 'admin', 'config', 'local', 'test']\n"
     ]
    }
   ],
   "source": [
    "import pymongo\n",
    "\n",
    "myclient = pymongo.MongoClient(\"mongodb://localhost:27017/\")\n",
    "\n",
    "mydb = myclient[\"mydatabase\"]\n",
    "print(myclient.list_database_names())"
   ]
  },
  {
   "cell_type": "code",
   "execution_count": 61,
   "metadata": {},
   "outputs": [],
   "source": [
    "mycol = mydb[\"events\"]"
   ]
  },
  {
   "cell_type": "code",
   "execution_count": 60,
   "metadata": {},
   "outputs": [
    {
     "name": "stdout",
     "output_type": "stream",
     "text": [
      "{'timestamp': '2023-03-22T13:45:00.000Z', 'sensorId': 2, 'species': {'_id': ObjectId('6422c60543aef7afca47e502'), 'id': 'Sus Scrofa', 'commonName': 'Wild Pig', 'type': 'Mammal', 'status': 'Invasive', 'diet': 'Omnivore'}, 'microphoneLLA': [-33.1101, 150.0567, 23], 'animalEstLLA': [-33.1532, 150.0207, 23], 'animalTrueLLA': [-33.1545, 150.0209, 23], 'animalLLAUncertainty': 10, 'audio clip': 'some audio_base64 data', 'confidence': 99.4}\n",
      "{'timestamp': '2023-03-22T13:55:00.000Z', 'sensorId': 2, 'species': {'_id': ObjectId('6422c60543aef7afca47e503'), 'id': 'Cervus Unicolour', 'commonName': 'Sambar deer', 'type': 'Mammal', 'status': 'Invasive', 'diet': 'Herbavore'}, 'microphoneLLA': [-33.1101, 150.0567, 23], 'animalEstLLA': [-33.1543, 150.2007, 23], 'animalTrueLLA': [-33.1555, 150.2009, 23], 'animalLLAUncertainty': 10, 'audio clip': 'some audio_base64 data', 'confidence': 99.5}\n"
     ]
    }
   ],
   "source": [
    "import json\n",
    "f = open('example.json')\n",
    "data = json.load(f)\n",
    "\n",
    "for x in data:\n",
    "    species = x['species']\n",
    "    myquery = { 'id': species }\n",
    "    result = mydb[\"species\"].find_one(myquery)\n",
    "    x['species'] = result\n",
    "\n",
    "for x in data:\n",
    "    print(x)"
   ]
  },
  {
   "cell_type": "code",
   "execution_count": 57,
   "metadata": {},
   "outputs": [
    {
     "name": "stdout",
     "output_type": "stream",
     "text": [
      "{'_id': ObjectId('6422c60543aef7afca47e502'), 'id': 'Sus Scrofa', 'commonName': 'Wild Pig', 'type': 'Mammal', 'status': 'Invasive', 'diet': 'Omnivore'}\n"
     ]
    }
   ],
   "source": [
    "myquery = { 'id': 'Sus Scrofa' }\n",
    "result = mydb[\"species\"].find_one(myquery)\n",
    "print(result)"
   ]
  },
  {
   "cell_type": "code",
   "execution_count": 62,
   "metadata": {},
   "outputs": [],
   "source": [
    "x = mycol.insert_many(data)"
   ]
  },
  {
   "cell_type": "code",
   "execution_count": 63,
   "metadata": {},
   "outputs": [
    {
     "name": "stdout",
     "output_type": "stream",
     "text": [
      "{'_id': ObjectId('6422c9cc43aef7afca47e504'), 'timestamp': '2023-03-22T13:45:00.000Z', 'sensorId': 2, 'species': {'_id': ObjectId('6422c60543aef7afca47e502'), 'id': 'Sus Scrofa', 'commonName': 'Wild Pig', 'type': 'Mammal', 'status': 'Invasive', 'diet': 'Omnivore'}, 'microphoneLLA': [-33.1101, 150.0567, 23], 'animalEstLLA': [-33.1532, 150.0207, 23], 'animalTrueLLA': [-33.1545, 150.0209, 23], 'animalLLAUncertainty': 10, 'audio clip': 'some audio_base64 data', 'confidence': 99.4}\n",
      "{'_id': ObjectId('6422c9cc43aef7afca47e505'), 'timestamp': '2023-03-22T13:55:00.000Z', 'sensorId': 2, 'species': {'_id': ObjectId('6422c60543aef7afca47e503'), 'id': 'Cervus Unicolour', 'commonName': 'Sambar deer', 'type': 'Mammal', 'status': 'Invasive', 'diet': 'Herbavore'}, 'microphoneLLA': [-33.1101, 150.0567, 23], 'animalEstLLA': [-33.1543, 150.2007, 23], 'animalTrueLLA': [-33.1555, 150.2009, 23], 'animalLLAUncertainty': 10, 'audio clip': 'some audio_base64 data', 'confidence': 99.5}\n"
     ]
    }
   ],
   "source": [
    "for x in mycol.find():\n",
    "  print(x)"
   ]
  },
  {
   "cell_type": "code",
   "execution_count": 67,
   "metadata": {},
   "outputs": [
    {
     "data": {
      "text/plain": [
       "{'_id': ObjectId('6422c9cc43aef7afca47e505'),\n",
       " 'timestamp': '2023-03-22T13:55:00.000Z',\n",
       " 'sensorId': 2,\n",
       " 'species': {'_id': ObjectId('6422c60543aef7afca47e503'),\n",
       "  'id': 'Cervus Unicolour',\n",
       "  'commonName': 'Sambar deer',\n",
       "  'type': 'Mammal',\n",
       "  'status': 'Invasive',\n",
       "  'diet': 'Herbavore'},\n",
       " 'microphoneLLA': [-33.1101, 150.0567, 23],\n",
       " 'animalEstLLA': [-33.1543, 150.2007, 23],\n",
       " 'animalTrueLLA': [-33.1555, 150.2009, 23],\n",
       " 'animalLLAUncertainty': 10,\n",
       " 'audio clip': 'some audio_base64 data',\n",
       " 'confidence': 99.5}"
      ]
     },
     "execution_count": 67,
     "metadata": {},
     "output_type": "execute_result"
    }
   ],
   "source": [
    "mycol.find_one({\"species.diet\": \"Herbavore\"})\n"
   ]
  },
  {
   "cell_type": "code",
   "execution_count": 34,
   "metadata": {},
   "outputs": [],
   "source": [
    "mycol.drop()\n",
    "mycol = mydb[\"species\"]"
   ]
  },
  {
   "cell_type": "code",
   "execution_count": 35,
   "metadata": {},
   "outputs": [],
   "source": [
    "import json\n",
    "f = open('species.json')\n",
    "data = json.load(f)\n",
    "x = mycol.insert_many(data)\n"
   ]
  },
  {
   "cell_type": "code",
   "execution_count": 37,
   "metadata": {},
   "outputs": [],
   "source": [
    "mydb[\"events\"].drop()"
   ]
  }
 ],
 "metadata": {
  "kernelspec": {
   "display_name": "dev",
   "language": "python",
   "name": "python3"
  },
  "language_info": {
   "codemirror_mode": {
    "name": "ipython",
    "version": 3
   },
   "file_extension": ".py",
   "mimetype": "text/x-python",
   "name": "python",
   "nbconvert_exporter": "python",
   "pygments_lexer": "ipython3",
   "version": "3.9.15"
  },
  "orig_nbformat": 4
 },
 "nbformat": 4,
 "nbformat_minor": 2
}
